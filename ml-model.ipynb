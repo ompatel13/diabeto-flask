{
 "cells": [
  {
   "cell_type": "code",
   "execution_count": 26,
   "id": "0eaf632f",
   "metadata": {},
   "outputs": [],
   "source": [
    "import numpy as np \n",
    "import pandas as pd \n",
    "import matplotlib.pyplot as plt\n",
    "import seaborn as sns\n",
    "\n",
    "from sklearn.model_selection import train_test_split \n",
    "from sklearn.preprocessing import StandardScaler\n",
    "from sklearn.impute import SimpleImputer\n",
    "\n",
    "from sklearn.linear_model import LogisticRegression\n",
    "from sklearn.svm import SVC\n",
    "from sklearn.ensemble import RandomForestClassifier, VotingClassifier\n",
    "from sklearn.metrics import classification_report, confusion_matrix, accuracy_score"
   ]
  },
  {
   "cell_type": "markdown",
   "id": "82f1298c",
   "metadata": {},
   "source": [
    "### Load the Dataset"
   ]
  },
  {
   "cell_type": "code",
   "execution_count": 27,
   "id": "1a64e903",
   "metadata": {},
   "outputs": [
    {
     "name": "stdout",
     "output_type": "stream",
     "text": [
      "Database loaded successfully.\n",
      "Original shape of the dataset:  (768, 9)\n",
      "\n",
      " First 5 rows \n",
      "   Pregnancies  Glucose  BloodPressure  SkinThickness  Insulin   BMI  \\\n",
      "0            6      148             72             35        0  33.6   \n",
      "1            1       85             66             29        0  26.6   \n",
      "2            8      183             64              0        0  23.3   \n",
      "3            1       89             66             23       94  28.1   \n",
      "4            0      137             40             35      168  43.1   \n",
      "\n",
      "   DiabetesPedigreeFunction  Age  Outcome  \n",
      "0                     0.627   50        1  \n",
      "1                     0.351   31        0  \n",
      "2                     0.672   32        1  \n",
      "3                     0.167   21        0  \n",
      "4                     2.288   33        1  \n"
     ]
    }
   ],
   "source": [
    "try:\n",
    "    df = pd.read_csv('diabetes.csv')\n",
    "    print(\"Database loaded successfully.\")\n",
    "    print(\"Original shape of the dataset: \", df.shape)\n",
    "    print(\"\\n First 5 rows \")\n",
    "    print(df.head())\n",
    "except FileExistsError:\n",
    "    print(\"Error: Dataset not found.\")\n",
    "    exit()"
   ]
  },
  {
   "cell_type": "markdown",
   "id": "7e3cb5bd",
   "metadata": {},
   "source": [
    "### Handling missing values "
   ]
  },
  {
   "cell_type": "markdown",
   "id": "2789ea87",
   "metadata": {},
   "source": [
    "In this specific dataset, columns like Glucose, BloodPressure, SkinThickness, Insulin, and BMI cannot be 0. These are considered missing values."
   ]
  },
  {
   "cell_type": "code",
   "execution_count": 28,
   "id": "6d08a695",
   "metadata": {},
   "outputs": [],
   "source": [
    "cols_with_missing_values = ['Glucose', 'BloodPressure', 'SkinThickness', 'Insulin', 'BMI']"
   ]
  },
  {
   "cell_type": "code",
   "execution_count": 29,
   "id": "9b12eb55",
   "metadata": {},
   "outputs": [],
   "source": [
    "df[cols_with_missing_values] = df[cols_with_missing_values].replace(0,np.nan)"
   ]
  },
  {
   "cell_type": "code",
   "execution_count": 30,
   "id": "e6622be0",
   "metadata": {},
   "outputs": [
    {
     "name": "stdout",
     "output_type": "stream",
     "text": [
      "     Glucose  BloodPressure  SkinThickness  Insulin   BMI\n",
      "0      148.0           72.0           35.0      NaN  33.6\n",
      "1       85.0           66.0           29.0      NaN  26.6\n",
      "2      183.0           64.0            NaN      NaN  23.3\n",
      "3       89.0           66.0           23.0     94.0  28.1\n",
      "4      137.0           40.0           35.0    168.0  43.1\n",
      "..       ...            ...            ...      ...   ...\n",
      "763    101.0           76.0           48.0    180.0  32.9\n",
      "764    122.0           70.0           27.0      NaN  36.8\n",
      "765    121.0           72.0           23.0    112.0  26.2\n",
      "766    126.0           60.0            NaN      NaN  30.1\n",
      "767     93.0           70.0           31.0      NaN  30.4\n",
      "\n",
      "[768 rows x 5 columns]\n"
     ]
    }
   ],
   "source": [
    "print(df[cols_with_missing_values])"
   ]
  },
  {
   "cell_type": "code",
   "execution_count": 31,
   "id": "347dccf1",
   "metadata": {},
   "outputs": [
    {
     "name": "stdout",
     "output_type": "stream",
     "text": [
      "\n",
      "Number of missing values (NaNs) after replacing zeros:\n",
      "Pregnancies                   0\n",
      "Glucose                       5\n",
      "BloodPressure                35\n",
      "SkinThickness               227\n",
      "Insulin                     374\n",
      "BMI                          11\n",
      "DiabetesPedigreeFunction      0\n",
      "Age                           0\n",
      "Outcome                       0\n",
      "dtype: int64\n",
      "    Pregnancies  Glucose  BloodPressure  SkinThickness  Insulin   BMI  \\\n",
      "0             6    148.0           72.0           35.0      NaN  33.6   \n",
      "1             1     85.0           66.0           29.0      NaN  26.6   \n",
      "2             8    183.0           64.0            NaN      NaN  23.3   \n",
      "3             1     89.0           66.0           23.0     94.0  28.1   \n",
      "4             0    137.0           40.0           35.0    168.0  43.1   \n",
      "5             5    116.0           74.0            NaN      NaN  25.6   \n",
      "6             3     78.0           50.0           32.0     88.0  31.0   \n",
      "7            10    115.0            NaN            NaN      NaN  35.3   \n",
      "8             2    197.0           70.0           45.0    543.0  30.5   \n",
      "9             8    125.0           96.0            NaN      NaN   NaN   \n",
      "10            4    110.0           92.0            NaN      NaN  37.6   \n",
      "11           10    168.0           74.0            NaN      NaN  38.0   \n",
      "12           10    139.0           80.0            NaN      NaN  27.1   \n",
      "13            1    189.0           60.0           23.0    846.0  30.1   \n",
      "14            5    166.0           72.0           19.0    175.0  25.8   \n",
      "15            7    100.0            NaN            NaN      NaN  30.0   \n",
      "16            0    118.0           84.0           47.0    230.0  45.8   \n",
      "17            7    107.0           74.0            NaN      NaN  29.6   \n",
      "18            1    103.0           30.0           38.0     83.0  43.3   \n",
      "19            1    115.0           70.0           30.0     96.0  34.6   \n",
      "\n",
      "    DiabetesPedigreeFunction  Age  Outcome  \n",
      "0                      0.627   50        1  \n",
      "1                      0.351   31        0  \n",
      "2                      0.672   32        1  \n",
      "3                      0.167   21        0  \n",
      "4                      2.288   33        1  \n",
      "5                      0.201   30        0  \n",
      "6                      0.248   26        1  \n",
      "7                      0.134   29        0  \n",
      "8                      0.158   53        1  \n",
      "9                      0.232   54        1  \n",
      "10                     0.191   30        0  \n",
      "11                     0.537   34        1  \n",
      "12                     1.441   57        0  \n",
      "13                     0.398   59        1  \n",
      "14                     0.587   51        1  \n",
      "15                     0.484   32        1  \n",
      "16                     0.551   31        1  \n",
      "17                     0.254   31        1  \n",
      "18                     0.183   33        0  \n",
      "19                     0.529   32        1  \n"
     ]
    }
   ],
   "source": [
    "print(\"\\nNumber of missing values (NaNs) after replacing zeros:\")\n",
    "print(df.isnull().sum())\n",
    "print(df.head(20))"
   ]
  },
  {
   "cell_type": "markdown",
   "id": "8a186f29",
   "metadata": {},
   "source": [
    " Now, we'll fill the missing (NaN) values. Using the median is a good strategy because it's less sensitive to outliers than the mean."
   ]
  },
  {
   "cell_type": "code",
   "execution_count": 32,
   "id": "a90427ae",
   "metadata": {},
   "outputs": [],
   "source": [
    "imputer = SimpleImputer(strategy=\"median\")"
   ]
  },
  {
   "cell_type": "code",
   "execution_count": 33,
   "id": "fabf975c",
   "metadata": {},
   "outputs": [],
   "source": [
    "df_imputed = pd.DataFrame(imputer.fit_transform(df), columns=df.columns)"
   ]
  },
  {
   "cell_type": "code",
   "execution_count": 34,
   "id": "883d205f",
   "metadata": {},
   "outputs": [
    {
     "name": "stdout",
     "output_type": "stream",
     "text": [
      "\n",
      "Dataset after imputing missing values with the median:\n",
      "   Pregnancies  Glucose  BloodPressure  SkinThickness  Insulin   BMI  \\\n",
      "0          6.0    148.0           72.0           35.0    125.0  33.6   \n",
      "1          1.0     85.0           66.0           29.0    125.0  26.6   \n",
      "2          8.0    183.0           64.0           29.0    125.0  23.3   \n",
      "3          1.0     89.0           66.0           23.0     94.0  28.1   \n",
      "4          0.0    137.0           40.0           35.0    168.0  43.1   \n",
      "\n",
      "   DiabetesPedigreeFunction   Age  Outcome  \n",
      "0                     0.627  50.0      1.0  \n",
      "1                     0.351  31.0      0.0  \n",
      "2                     0.672  32.0      1.0  \n",
      "3                     0.167  21.0      0.0  \n",
      "4                     2.288  33.0      1.0  \n",
      "\n",
      "Confirming no more missing dfvalues:\n",
      "Pregnancies                 0\n",
      "Glucose                     0\n",
      "BloodPressure               0\n",
      "SkinThickness               0\n",
      "Insulin                     0\n",
      "BMI                         0\n",
      "DiabetesPedigreeFunction    0\n",
      "Age                         0\n",
      "Outcome                     0\n",
      "dtype: int64\n"
     ]
    }
   ],
   "source": [
    "print(\"\\nDataset after imputing missing values with the median:\")\n",
    "print(df_imputed.head())\n",
    "print(\"\\nConfirming no more missing dfvalues:\")\n",
    "print(df_imputed.isnull().sum())"
   ]
  },
  {
   "cell_type": "markdown",
   "id": "c26ee067",
   "metadata": {},
   "source": [
    "### Separate the target variable  "
   ]
  },
  {
   "cell_type": "code",
   "execution_count": 35,
   "id": "5bcfa97a",
   "metadata": {},
   "outputs": [],
   "source": [
    "X = df_imputed.drop('Outcome', axis=1)\n",
    "y = df_imputed['Outcome']"
   ]
  },
  {
   "cell_type": "code",
   "execution_count": 36,
   "id": "ae95ba7b",
   "metadata": {},
   "outputs": [
    {
     "name": "stdout",
     "output_type": "stream",
     "text": [
      "\n",
      "Shape of features (X): (768, 8)\n",
      "Shape of target (y): (768,)\n"
     ]
    }
   ],
   "source": [
    "print(\"\\nShape of features (X):\", X.shape)\n",
    "print(\"Shape of target (y):\", y.shape)"
   ]
  },
  {
   "cell_type": "markdown",
   "id": "0a63a3a7",
   "metadata": {},
   "source": [
    "### Split Data into Training and Testing Sets "
   ]
  },
  {
   "cell_type": "code",
   "execution_count": 37,
   "id": "44e5ce50",
   "metadata": {},
   "outputs": [],
   "source": [
    "X_train, X_test , y_train, y_test = train_test_split(\n",
    "    X,y, test_size=0.3, random_state=42, stratify=y\n",
    ")"
   ]
  },
  {
   "cell_type": "code",
   "execution_count": 38,
   "id": "129e233c",
   "metadata": {},
   "outputs": [
    {
     "name": "stdout",
     "output_type": "stream",
     "text": [
      "\n",
      "Data split into training and testing sets:\n",
      "X_train shape: (537, 8)\n",
      "X_test shape: (231, 8)\n"
     ]
    }
   ],
   "source": [
    "print(\"\\nData split into training and testing sets:\")\n",
    "print(\"X_train shape:\", X_train.shape)\n",
    "print(\"X_test shape:\", X_test.shape)"
   ]
  },
  {
   "cell_type": "markdown",
   "id": "75a9c707",
   "metadata": {},
   "source": [
    "### Feature Scaling "
   ]
  },
  {
   "cell_type": "code",
   "execution_count": 39,
   "id": "d8e9fb95",
   "metadata": {},
   "outputs": [],
   "source": [
    "scaler = StandardScaler()"
   ]
  },
  {
   "cell_type": "code",
   "execution_count": 40,
   "id": "fa7dfc34",
   "metadata": {},
   "outputs": [],
   "source": [
    "X_train_scaled = scaler.fit_transform(X_train)\n",
    "X_test_scaled = scaler.transform(X_test)\n",
    "#return a numpy array"
   ]
  },
  {
   "cell_type": "code",
   "execution_count": 41,
   "id": "b8d77a63",
   "metadata": {},
   "outputs": [],
   "source": [
    "X_train_scaled = pd.DataFrame(X_train_scaled, columns=X.columns)\n",
    "X_test_scaled = pd.DataFrame(X_test_scaled, columns=X.columns)"
   ]
  },
  {
   "cell_type": "code",
   "execution_count": 42,
   "id": "5ef65a76",
   "metadata": {},
   "outputs": [
    {
     "name": "stdout",
     "output_type": "stream",
     "text": [
      "\n",
      "Features have been scaled.\n",
      "First 5 rows of the scaled training data:\n",
      "   Pregnancies   Glucose  BloodPressure  SkinThickness   Insulin       BMI  \\\n",
      "0     0.931383  2.086491       0.966939       0.498532 -0.163932  0.428910   \n",
      "1     0.632606 -1.221912       0.474140       0.013767 -0.163932 -0.210550   \n",
      "2    -0.562502 -0.520129      -0.675726       0.740915 -0.239259 -0.314648   \n",
      "3    -0.562502 -0.720639      -1.497058      -0.107425 -0.415020  0.770947   \n",
      "4     0.333829 -0.586966       0.145607       0.013767 -0.163932 -0.567458   \n",
      "\n",
      "   DiabetesPedigreeFunction       Age  \n",
      "0                 -0.374779  0.632129  \n",
      "1                 -0.294168  0.716992  \n",
      "2                  2.745172  0.038086  \n",
      "3                  0.052162 -0.810548  \n",
      "4                 -0.977870  1.226172  \n"
     ]
    }
   ],
   "source": [
    "print(\"\\nFeatures have been scaled.\")\n",
    "print(\"First 5 rows of the scaled training data:\")\n",
    "print(X_train_scaled.head())"
   ]
  },
  {
   "cell_type": "markdown",
   "id": "72bfd80a",
   "metadata": {},
   "source": [
    "Preprocessing Complete"
   ]
  },
  {
   "cell_type": "code",
   "execution_count": 43,
   "id": "ba62886d",
   "metadata": {},
   "outputs": [],
   "source": [
    "log_clf = LogisticRegression(random_state=42)\n",
    "rnd_clf = RandomForestClassifier(random_state=42)\n",
    "svm_clf = SVC(probability=True, random_state=42)"
   ]
  },
  {
   "cell_type": "code",
   "execution_count": null,
   "id": "59f21b10",
   "metadata": {},
   "outputs": [
    {
     "name": "stdout",
     "output_type": "stream",
     "text": [
      "\n",
      "--- Initializing Models: Logistic Regression, Random Forest, SVM ---\n"
     ]
    }
   ],
   "source": [
    "print(\"\\nInitializing Models: Logistic Regression, Random Forest, SVM \")"
   ]
  },
  {
   "cell_type": "markdown",
   "id": "d5a3e8b4",
   "metadata": {},
   "source": [
    "Train and Evaluate Individual Models"
   ]
  },
  {
   "cell_type": "code",
   "execution_count": null,
   "id": "6135fbdf",
   "metadata": {},
   "outputs": [
    {
     "name": "stdout",
     "output_type": "stream",
     "text": [
      "\n",
      "--- Training and Evaluating Individual Models ---\n",
      "Accuracy for LogisticRegression: 0.7446\n",
      "Accuracy for RandomForestClassifier: 0.7359\n",
      "Accuracy for SVC: 0.7403\n"
     ]
    }
   ],
   "source": [
    "print(\"\\nTraining and Evaluating Individual Model\")\n",
    "for clf in (log_clf, rnd_clf, svm_clf):\n",
    "    clf.fit(X_train_scaled, y_train)\n",
    "    y_pred = clf.predict(X_test_scaled)\n",
    "    print(f\"Accuracy for {clf.__class__.__name__}: {accuracy_score(y_test, y_pred):.4f}\")\n"
   ]
  },
  {
   "cell_type": "markdown",
   "id": "6cc5e76d",
   "metadata": {},
   "source": [
    "### Ensemble Technique Voting (Soft Voting)"
   ]
  },
  {
   "cell_type": "code",
   "execution_count": 47,
   "id": "25e39506",
   "metadata": {},
   "outputs": [],
   "source": [
    "voting_clf = VotingClassifier(\n",
    "    estimators=[('lr',log_clf), ('rf',rnd_clf), ('svc',svm_clf)],\n",
    "    voting='soft'\n",
    ")"
   ]
  },
  {
   "cell_type": "markdown",
   "id": "374f12d0",
   "metadata": {},
   "source": [
    "training ensemble model"
   ]
  },
  {
   "cell_type": "code",
   "execution_count": null,
   "id": "2a6b58b5",
   "metadata": {},
   "outputs": [
    {
     "name": "stdout",
     "output_type": "stream",
     "text": [
      "\n",
      "Training the Ensemble Model (Voting Classifier)\n",
      "Training Complete\n"
     ]
    }
   ],
   "source": [
    "print(\"\\nTraining the Ensemble Model (Voting Classifier)\")\n",
    "voting_clf.fit(X_train_scaled, y_train)\n",
    "print(\"Training Complete\")"
   ]
  },
  {
   "cell_type": "markdown",
   "id": "ea5ffb83",
   "metadata": {},
   "source": [
    "evaluating ensemble model"
   ]
  },
  {
   "cell_type": "code",
   "execution_count": 49,
   "id": "d20d22a6",
   "metadata": {},
   "outputs": [],
   "source": [
    "y_pred_ensemble = voting_clf.predict(X_test_scaled)"
   ]
  },
  {
   "cell_type": "code",
   "execution_count": 50,
   "id": "6cf56d59",
   "metadata": {},
   "outputs": [
    {
     "name": "stdout",
     "output_type": "stream",
     "text": [
      "\n",
      "Ensemble Model Evaluation\n",
      "Ensemble Model Accuracy: 0.7359\n"
     ]
    }
   ],
   "source": [
    "print(\"\\nEnsemble Model Evaluation\")\n",
    "accuracy = accuracy_score(y_test,y_pred_ensemble)\n",
    "print(f\"Ensemble Model Accuracy: {accuracy:.4f}\")"
   ]
  },
  {
   "cell_type": "code",
   "execution_count": 51,
   "id": "95818c53",
   "metadata": {},
   "outputs": [
    {
     "name": "stdout",
     "output_type": "stream",
     "text": [
      "\n",
      "Classification Report:\n",
      "              precision    recall  f1-score   support\n",
      "\n",
      "         0.0       0.77      0.85      0.81       150\n",
      "         1.0       0.65      0.53      0.59        81\n",
      "\n",
      "    accuracy                           0.74       231\n",
      "   macro avg       0.71      0.69      0.70       231\n",
      "weighted avg       0.73      0.74      0.73       231\n",
      "\n"
     ]
    }
   ],
   "source": [
    "# Print the classification report\n",
    "print(\"\\nClassification Report:\")\n",
    "print(classification_report(y_test, y_pred_ensemble))"
   ]
  },
  {
   "cell_type": "code",
   "execution_count": 52,
   "id": "2b2e10c6",
   "metadata": {},
   "outputs": [
    {
     "name": "stdout",
     "output_type": "stream",
     "text": [
      "\n",
      "Confusion Matrix:\n",
      "[[127  23]\n",
      " [ 38  43]]\n"
     ]
    },
    {
     "data": {
      "image/png": "[encoded data removed]",
      "text/plain": [
       "<Figure size 800x600 with 2 Axes>"
      ]
     },
     "metadata": {},
     "output_type": "display_data"
    }
   ],
   "source": [
    "print(\"\\nConfusion Matrix:\")\n",
    "cm = confusion_matrix(y_test, y_pred_ensemble)\n",
    "print(cm)\n",
    "\n",
    "# Visualize the confusion matrix using a heatmap for better interpretation\n",
    "plt.figure(figsize=(8, 6))\n",
    "sns.heatmap(cm, annot=True, fmt='d', cmap='Blues',\n",
    "            xticklabels=['No Diabetes', 'Diabetes'],\n",
    "            yticklabels=['No Diabetes', 'Diabetes'])\n",
    "plt.xlabel('Predicted Label')\n",
    "plt.ylabel('True Label')\n",
    "plt.title('Confusion Matrix for Ensemble Model')\n",
    "plt.show()"
   ]
  },
  {
   "cell_type": "markdown",
   "id": "674fa241",
   "metadata": {},
   "source": [
    "### Determine Feature Importances"
   ]
  },
  {
   "cell_type": "code",
   "execution_count": 53,
   "id": "29e5d9ee",
   "metadata": {},
   "outputs": [
    {
     "name": "stdout",
     "output_type": "stream",
     "text": [
      "\n",
      "--- Top Features Contributing to the Prediction ---\n",
      "Glucose                     0.268015\n",
      "BMI                         0.158051\n",
      "Age                         0.122681\n",
      "DiabetesPedigreeFunction    0.116073\n",
      "Insulin                     0.091462\n",
      "Pregnancies                 0.088386\n",
      "BloodPressure               0.087170\n",
      "SkinThickness               0.068162\n",
      "dtype: float64\n"
     ]
    }
   ],
   "source": [
    "random_forest_model = voting_clf.named_estimators_['rf']\n",
    "importances = random_forest_model.feature_importances_\n",
    "\n",
    "# Create a pandas Series for better visualization\n",
    "feature_importances = pd.Series(importances, index=X.columns).sort_values(ascending=False)\n",
    "\n",
    "print(\"\\n--- Top Features Contributing to the Prediction ---\")\n",
    "print(feature_importances)"
   ]
  },
  {
   "cell_type": "code",
   "execution_count": 55,
   "id": "d28f0614",
   "metadata": {},
   "outputs": [
    {
     "name": "stdout",
     "output_type": "stream",
     "text": [
      "Model and scaler saved successfully.\n"
     ]
    }
   ],
   "source": [
    "import joblib\n",
    "\n",
    "# Save model and scaler\n",
    "joblib.dump(voting_clf, 'diabetes_model.pkl')\n",
    "joblib.dump(scaler, 'scaler.pkl')\n",
    "\n",
    "print(\"Model and scaler saved successfully.\")\n"
   ]
  }
 ],
 "metadata": {
  "kernelspec": {
   "display_name": "diabeto",
   "language": "python",
   "name": "python3"
  },
  "language_info": {
   "codemirror_mode": {
    "name": "ipython",
    "version": 3
   },
   "file_extension": ".py",
   "mimetype": "text/x-python",
   "name": "python",
   "nbconvert_exporter": "python",
   "pygments_lexer": "ipython3",
   "version": "3.13.1"
  }
 },
 "nbformat": 4,
 "nbformat_minor": 5
}
